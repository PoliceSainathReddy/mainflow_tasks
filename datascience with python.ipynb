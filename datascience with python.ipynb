{
  "metadata": {
    "kernelspec": {
      "name": "python",
      "display_name": "Python (Pyodide)",
      "language": "python"
    },
    "language_info": {
      "codemirror_mode": {
        "name": "python",
        "version": 3
      },
      "file_extension": ".py",
      "mimetype": "text/x-python",
      "name": "python",
      "nbconvert_exporter": "python",
      "pygments_lexer": "ipython3",
      "version": "3.8"
    }
  },
  "nbformat_minor": 4,
  "nbformat": 4,
  "cells": [
    {
      "cell_type": "code",
      "source": "list =[1,2,3,4,5]\nlist.append(7)\nlist.remove(3)\nlist[1]=8\nprint(\"the updated list:\",list)",
      "metadata": {
        "trusted": true
      },
      "outputs": [
        {
          "name": "stdout",
          "text": "the updated list: [1, 8, 4, 5, 7]\n",
          "output_type": "stream"
        }
      ],
      "execution_count": 2
    },
    {
      "cell_type": "code",
      "source": "dict ={'Sainath':'77','John':'444','Rony':'555'}\ndict['Sree']='777'\ndel dict['Rony']\ndict['Sainath']='777'\nprint(\"updated dictionary:\",dict)",
      "metadata": {
        "trusted": true
      },
      "outputs": [
        {
          "name": "stdout",
          "text": "updated dictionary: {'Sainath': '777', 'John': '444', 'Sree': '777'}\n",
          "output_type": "stream"
        }
      ],
      "execution_count": 3
    },
    {
      "cell_type": "code",
      "source": "set ={1,2,3,4,5}\nset.add(7)\nset.remove(5)\nset.discard(3)\nset.add(11)\nprint(\"updated set:\",set)",
      "metadata": {
        "trusted": true
      },
      "outputs": [
        {
          "name": "stdout",
          "text": "updated set: {1, 2, 4, 7, 11}\n",
          "output_type": "stream"
        }
      ],
      "execution_count": 4
    },
    {
      "cell_type": "code",
      "source": "",
      "metadata": {
        "trusted": true
      },
      "outputs": [],
      "execution_count": null
    }
  ]
}